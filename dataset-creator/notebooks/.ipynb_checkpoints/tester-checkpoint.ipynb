{
 "cells": [
  {
   "cell_type": "code",
   "execution_count": 1,
   "metadata": {},
   "outputs": [],
   "source": [
    "import pandas as pd"
   ]
  },
  {
   "cell_type": "code",
   "execution_count": 2,
   "metadata": {},
   "outputs": [
    {
     "data": {
      "text/html": [
       "<div>\n",
       "<style scoped>\n",
       "    .dataframe tbody tr th:only-of-type {\n",
       "        vertical-align: middle;\n",
       "    }\n",
       "\n",
       "    .dataframe tbody tr th {\n",
       "        vertical-align: top;\n",
       "    }\n",
       "\n",
       "    .dataframe thead th {\n",
       "        text-align: right;\n",
       "    }\n",
       "</style>\n",
       "<table border=\"1\" class=\"dataframe\">\n",
       "  <thead>\n",
       "    <tr style=\"text-align: right;\">\n",
       "      <th></th>\n",
       "      <th>artist</th>\n",
       "      <th>album</th>\n",
       "      <th>genre</th>\n",
       "      <th>review</th>\n",
       "      <th>lyrics</th>\n",
       "      <th>date</th>\n",
       "      <th>score</th>\n",
       "    </tr>\n",
       "  </thead>\n",
       "  <tbody>\n",
       "    <tr>\n",
       "      <td>0</td>\n",
       "      <td>artist</td>\n",
       "      <td>album</td>\n",
       "      <td>genre</td>\n",
       "      <td>review_text</td>\n",
       "      <td>album_lyrics</td>\n",
       "      <td>publish_date</td>\n",
       "      <td>score</td>\n",
       "    </tr>\n",
       "    <tr>\n",
       "      <td>1</td>\n",
       "      <td>artist</td>\n",
       "      <td>album</td>\n",
       "      <td>genre</td>\n",
       "      <td>review_text</td>\n",
       "      <td>album_lyrics</td>\n",
       "      <td>publish_date</td>\n",
       "      <td>score</td>\n",
       "    </tr>\n",
       "    <tr>\n",
       "      <td>2</td>\n",
       "      <td>artist</td>\n",
       "      <td>album</td>\n",
       "      <td>genre</td>\n",
       "      <td>review_text</td>\n",
       "      <td>album_lyrics</td>\n",
       "      <td>publish_date</td>\n",
       "      <td>score</td>\n",
       "    </tr>\n",
       "    <tr>\n",
       "      <td>3</td>\n",
       "      <td>artist</td>\n",
       "      <td>album</td>\n",
       "      <td>genre</td>\n",
       "      <td>review_text</td>\n",
       "      <td>album_lyrics</td>\n",
       "      <td>publish_date</td>\n",
       "      <td>score</td>\n",
       "    </tr>\n",
       "    <tr>\n",
       "      <td>4</td>\n",
       "      <td>artist</td>\n",
       "      <td>album</td>\n",
       "      <td>genre</td>\n",
       "      <td>review_text</td>\n",
       "      <td>album_lyrics</td>\n",
       "      <td>publish_date</td>\n",
       "      <td>score</td>\n",
       "    </tr>\n",
       "  </tbody>\n",
       "</table>\n",
       "</div>"
      ],
      "text/plain": [
       "   artist  album  genre       review        lyrics          date  score\n",
       "0  artist  album  genre  review_text  album_lyrics  publish_date  score\n",
       "1  artist  album  genre  review_text  album_lyrics  publish_date  score\n",
       "2  artist  album  genre  review_text  album_lyrics  publish_date  score\n",
       "3  artist  album  genre  review_text  album_lyrics  publish_date  score\n",
       "4  artist  album  genre  review_text  album_lyrics  publish_date  score"
      ]
     },
     "execution_count": 2,
     "metadata": {},
     "output_type": "execute_result"
    }
   ],
   "source": [
    "review_df = pd.read_csv(\"../data/p4k_reviews.csv\")\n",
    "review_df.head()"
   ]
  },
  {
   "cell_type": "code",
   "execution_count": null,
   "metadata": {},
   "outputs": [],
   "source": []
  }
 ],
 "metadata": {
  "kernelspec": {
   "display_name": "tensorflow",
   "language": "python",
   "name": "tensorflow"
  },
  "language_info": {
   "codemirror_mode": {
    "name": "ipython",
    "version": 3
   },
   "file_extension": ".py",
   "mimetype": "text/x-python",
   "name": "python",
   "nbconvert_exporter": "python",
   "pygments_lexer": "ipython3",
   "version": "3.6.5"
  }
 },
 "nbformat": 4,
 "nbformat_minor": 2
}
