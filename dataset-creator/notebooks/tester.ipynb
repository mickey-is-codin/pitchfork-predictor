{
 "cells": [
  {
   "cell_type": "code",
   "execution_count": 7,
   "metadata": {},
   "outputs": [],
   "source": [
    "import pandas as pd"
   ]
  },
  {
   "cell_type": "code",
   "execution_count": 8,
   "metadata": {},
   "outputs": [
    {
     "data": {
      "text/html": [
       "<div>\n",
       "<style scoped>\n",
       "    .dataframe tbody tr th:only-of-type {\n",
       "        vertical-align: middle;\n",
       "    }\n",
       "\n",
       "    .dataframe tbody tr th {\n",
       "        vertical-align: top;\n",
       "    }\n",
       "\n",
       "    .dataframe thead th {\n",
       "        text-align: right;\n",
       "    }\n",
       "</style>\n",
       "<table border=\"1\" class=\"dataframe\">\n",
       "  <thead>\n",
       "    <tr style=\"text-align: right;\">\n",
       "      <th></th>\n",
       "      <th>Unnamed: 0</th>\n",
       "      <th>artist</th>\n",
       "      <th>album</th>\n",
       "      <th>genre</th>\n",
       "      <th>review</th>\n",
       "      <th>lyrics</th>\n",
       "      <th>date</th>\n",
       "      <th>score</th>\n",
       "    </tr>\n",
       "  </thead>\n",
       "  <tbody>\n",
       "    <tr>\n",
       "      <td>0</td>\n",
       "      <td>0</td>\n",
       "      <td>M.E.D.</td>\n",
       "      <td>Classic</td>\n",
       "      <td>Rap</td>\n",
       "      <td>M.E.D. is the rap equivalent of a middle-relie...</td>\n",
       "      <td>NaN</td>\n",
       "      <td>2011-11-29</td>\n",
       "      <td>6.1</td>\n",
       "    </tr>\n",
       "    <tr>\n",
       "      <td>1</td>\n",
       "      <td>1</td>\n",
       "      <td>The Louvin Brothers</td>\n",
       "      <td>Satan Is Real</td>\n",
       "      <td>Rock</td>\n",
       "      <td>Even if you've never heard a single note from ...</td>\n",
       "      <td>When burdens seem to overcome there's a higher...</td>\n",
       "      <td>2011-11-29</td>\n",
       "      <td>8.5</td>\n",
       "    </tr>\n",
       "    <tr>\n",
       "      <td>2</td>\n",
       "      <td>2</td>\n",
       "      <td>Salem</td>\n",
       "      <td>I'm Still in the Night EP</td>\n",
       "      <td>Electronic</td>\n",
       "      <td>Remember these guys? Following Salem's convers...</td>\n",
       "      <td>NaN</td>\n",
       "      <td>2011-11-29</td>\n",
       "      <td>6.4</td>\n",
       "    </tr>\n",
       "    <tr>\n",
       "      <td>3</td>\n",
       "      <td>3</td>\n",
       "      <td>Lil B</td>\n",
       "      <td>BasedGod Velli</td>\n",
       "      <td>Rap</td>\n",
       "      <td>\"I changed the rap game, and a lot of people k...</td>\n",
       "      <td>NaN</td>\n",
       "      <td>2011-11-29</td>\n",
       "      <td>7.8</td>\n",
       "    </tr>\n",
       "    <tr>\n",
       "      <td>4</td>\n",
       "      <td>4</td>\n",
       "      <td>Gorillaz</td>\n",
       "      <td>The Singles Collection 2001-2011</td>\n",
       "      <td>Electronic</td>\n",
       "      <td>Happy birthday, Gorillaz; you have been a comp...</td>\n",
       "      <td>[Verse 1: 2D]\\nEverybody's here with me\\nWe've...</td>\n",
       "      <td>2011-11-29</td>\n",
       "      <td>7.9</td>\n",
       "    </tr>\n",
       "  </tbody>\n",
       "</table>\n",
       "</div>"
      ],
      "text/plain": [
       "   Unnamed: 0               artist                             album  \\\n",
       "0           0               M.E.D.                           Classic   \n",
       "1           1  The Louvin Brothers                     Satan Is Real   \n",
       "2           2                Salem         I'm Still in the Night EP   \n",
       "3           3                Lil B                    BasedGod Velli   \n",
       "4           4             Gorillaz  The Singles Collection 2001-2011   \n",
       "\n",
       "        genre                                             review  \\\n",
       "0         Rap  M.E.D. is the rap equivalent of a middle-relie...   \n",
       "1        Rock  Even if you've never heard a single note from ...   \n",
       "2  Electronic  Remember these guys? Following Salem's convers...   \n",
       "3         Rap  \"I changed the rap game, and a lot of people k...   \n",
       "4  Electronic  Happy birthday, Gorillaz; you have been a comp...   \n",
       "\n",
       "                                              lyrics        date  score  \n",
       "0                                                NaN  2011-11-29    6.1  \n",
       "1  When burdens seem to overcome there's a higher...  2011-11-29    8.5  \n",
       "2                                                NaN  2011-11-29    6.4  \n",
       "3                                                NaN  2011-11-29    7.8  \n",
       "4  [Verse 1: 2D]\\nEverybody's here with me\\nWe've...  2011-11-29    7.9  "
      ]
     },
     "execution_count": 8,
     "metadata": {},
     "output_type": "execute_result"
    }
   ],
   "source": [
    "review_df = pd.read_csv(\"../data/p4k_reviews.csv\")\n",
    "review_df.head()"
   ]
  },
  {
   "cell_type": "code",
   "execution_count": 12,
   "metadata": {},
   "outputs": [
    {
     "data": {
      "text/plain": [
       "<matplotlib.axes._subplots.AxesSubplot at 0x1157ad9b0>"
      ]
     },
     "execution_count": 12,
     "metadata": {},
     "output_type": "execute_result"
    },
    {
     "data": {
      "image/png": "[encoded data removed]",
      "text/plain": [
       "<Figure size 432x288 with 1 Axes>"
      ]
     },
     "metadata": {
      "needs_background": "light"
     },
     "output_type": "display_data"
    }
   ],
   "source": [
    "review_df.plot(x=\"date\", y=\"score\")"
   ]
  },
  {
   "cell_type": "code",
   "execution_count": null,
   "metadata": {},
   "outputs": [],
   "source": []
  }
 ],
 "metadata": {
  "kernelspec": {
   "display_name": "tensorflow",
   "language": "python",
   "name": "tensorflow"
  },
  "language_info": {
   "codemirror_mode": {
    "name": "ipython",
    "version": 3
   },
   "file_extension": ".py",
   "mimetype": "text/x-python",
   "name": "python",
   "nbconvert_exporter": "python",
   "pygments_lexer": "ipython3",
   "version": "3.6.5"
  }
 },
 "nbformat": 4,
 "nbformat_minor": 2
}
