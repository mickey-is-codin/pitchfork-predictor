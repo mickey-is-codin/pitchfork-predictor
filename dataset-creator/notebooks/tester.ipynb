{
 "cells": [
  {
   "cell_type": "code",
   "execution_count": 12,
   "metadata": {},
   "outputs": [],
   "source": [
    "import pandas as pd\n",
    "import matplotlib.pyplot as plt"
   ]
  },
  {
   "cell_type": "code",
   "execution_count": 9,
   "metadata": {},
   "outputs": [
    {
     "data": {
      "text/html": [
       "<div>\n",
       "<style scoped>\n",
       "    .dataframe tbody tr th:only-of-type {\n",
       "        vertical-align: middle;\n",
       "    }\n",
       "\n",
       "    .dataframe tbody tr th {\n",
       "        vertical-align: top;\n",
       "    }\n",
       "\n",
       "    .dataframe thead th {\n",
       "        text-align: right;\n",
       "    }\n",
       "</style>\n",
       "<table border=\"1\" class=\"dataframe\">\n",
       "  <thead>\n",
       "    <tr style=\"text-align: right;\">\n",
       "      <th></th>\n",
       "      <th>artist</th>\n",
       "      <th>album</th>\n",
       "      <th>genre</th>\n",
       "      <th>label</th>\n",
       "      <th>review</th>\n",
       "      <th>date</th>\n",
       "      <th>score</th>\n",
       "    </tr>\n",
       "  </thead>\n",
       "  <tbody>\n",
       "    <tr>\n",
       "      <td>0</td>\n",
       "      <td>Miranda Lambert</td>\n",
       "      <td>Wildcard</td>\n",
       "      <td>Folk/Country</td>\n",
       "      <td>Vanner</td>\n",
       "      <td>Miranda Lambert opens  Wildcard with confidenc...</td>\n",
       "      <td>2019-11-01</td>\n",
       "      <td>7.4</td>\n",
       "    </tr>\n",
       "    <tr>\n",
       "      <td>1</td>\n",
       "      <td>Skee Mask</td>\n",
       "      <td>ISS004</td>\n",
       "      <td>Electronic</td>\n",
       "      <td>Ilian Tape</td>\n",
       "      <td>In a fractious dance-music scene, one thing se...</td>\n",
       "      <td>2019-11-01</td>\n",
       "      <td>7.8</td>\n",
       "    </tr>\n",
       "    <tr>\n",
       "      <td>2</td>\n",
       "      <td>Michael Kiwanuka</td>\n",
       "      <td>Kiwanuka</td>\n",
       "      <td>Pop/R&amp;B</td>\n",
       "      <td>Interscope</td>\n",
       "      <td>“All I want is to talk to you,” Michael Kiwanu...</td>\n",
       "      <td>2019-11-01</td>\n",
       "      <td>7.5</td>\n",
       "    </tr>\n",
       "    <tr>\n",
       "      <td>3</td>\n",
       "      <td>Rocketship</td>\n",
       "      <td>Thanks to You</td>\n",
       "      <td>Rock</td>\n",
       "      <td>nonstop co-op</td>\n",
       "      <td>Rocketship have long been the type of slightly...</td>\n",
       "      <td>2019-11-01</td>\n",
       "      <td>7.9</td>\n",
       "    </tr>\n",
       "    <tr>\n",
       "      <td>4</td>\n",
       "      <td>Van Morrison</td>\n",
       "      <td>Three Chords and the Truth</td>\n",
       "      <td>Rock</td>\n",
       "      <td>Exile</td>\n",
       "      <td>Forty-one albums into his storied career, Van ...</td>\n",
       "      <td>2019-10-31</td>\n",
       "      <td>7.3</td>\n",
       "    </tr>\n",
       "  </tbody>\n",
       "</table>\n",
       "</div>"
      ],
      "text/plain": [
       "             artist                       album         genre          label  \\\n",
       "0   Miranda Lambert                    Wildcard  Folk/Country         Vanner   \n",
       "1         Skee Mask                      ISS004    Electronic     Ilian Tape   \n",
       "2  Michael Kiwanuka                    Kiwanuka       Pop/R&B     Interscope   \n",
       "3        Rocketship               Thanks to You          Rock  nonstop co-op   \n",
       "4      Van Morrison  Three Chords and the Truth          Rock          Exile   \n",
       "\n",
       "                                              review        date  score  \n",
       "0  Miranda Lambert opens  Wildcard with confidenc...  2019-11-01    7.4  \n",
       "1  In a fractious dance-music scene, one thing se...  2019-11-01    7.8  \n",
       "2  “All I want is to talk to you,” Michael Kiwanu...  2019-11-01    7.5  \n",
       "3  Rocketship have long been the type of slightly...  2019-11-01    7.9  \n",
       "4  Forty-one albums into his storied career, Van ...  2019-10-31    7.3  "
      ]
     },
     "execution_count": 9,
     "metadata": {},
     "output_type": "execute_result"
    }
   ],
   "source": [
    "review_df = pd.read_csv(\"../data/p4k_reviews.csv\")\n",
    "review_df.head()"
   ]
  },
  {
   "cell_type": "code",
   "execution_count": 18,
   "metadata": {},
   "outputs": [
    {
     "data": {
      "text/plain": [
       "<matplotlib.collections.PathCollection at 0x7f2a5e5d95c0>"
      ]
     },
     "execution_count": 18,
     "metadata": {},
     "output_type": "execute_result"
    },
    {
     "data": {
      "image/png": "[encoded data removed]",
      "text/plain": [
       "<Figure size 720x720 with 1 Axes>"
      ]
     },
     "metadata": {
      "needs_background": "light"
     },
     "output_type": "display_data"
    }
   ],
   "source": [
    "plt.figure(figsize=(10,10))\n",
    "plt.scatter(review_df[\"date\"], review_df[\"score\"])"
   ]
  },
  {
   "cell_type": "code",
   "execution_count": null,
   "metadata": {},
   "outputs": [],
   "source": []
  }
 ],
 "metadata": {
  "kernelspec": {
   "display_name": "tensorflow",
   "language": "python",
   "name": "tensorflow"
  },
  "language_info": {
   "codemirror_mode": {
    "name": "ipython",
    "version": 3
   },
   "file_extension": ".py",
   "mimetype": "text/x-python",
   "name": "python",
   "nbconvert_exporter": "python",
   "pygments_lexer": "ipython3",
   "version": "3.6.5"
  }
 },
 "nbformat": 4,
 "nbformat_minor": 2
}
