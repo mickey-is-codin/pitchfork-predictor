{
 "cells": [
  {
   "cell_type": "code",
   "execution_count": 34,
   "metadata": {
    "colab": {},
    "colab_type": "code",
    "id": "iq0Ap5-4YjZV"
   },
   "outputs": [],
   "source": [
    "import time\n",
    "import grequests\n",
    "import multiprocessing\n",
    "import itertools\n",
    "\n",
    "import numpy as np\n",
    "import pandas as pd\n",
    "\n",
    "from bs4 import BeautifulSoup\n",
    "from bs4 import element\n",
    "from tqdm import tqdm"
   ]
  },
  {
   "cell_type": "code",
   "execution_count": 35,
   "metadata": {
    "colab": {},
    "colab_type": "code",
    "id": "aGOCUH5YYpGh"
   },
   "outputs": [],
   "source": [
    "csv_fname = \"data/p4k_reviews.csv\"\n",
    "\n",
    "cols = [ \"artist\", \"album\", \"genre\", \"review\", \"lyrics\", \"date\", \"score\"]\n",
    "review_df = pd.DataFrame(columns=cols)"
   ]
  },
  {
   "cell_type": "code",
   "execution_count": 36,
   "metadata": {
    "colab": {},
    "colab_type": "code",
    "id": "v8GM3UGbYwl3"
   },
   "outputs": [],
   "source": [
    "p4k_base =    \"https://pitchfork.com\"\n",
    "review_base = \"https://pitchfork.com/reviews/albums/\"\n",
    "page_base =   \"https://pitchfork.com/reviews/albums/?page={}\""
   ]
  },
  {
   "cell_type": "code",
   "execution_count": 37,
   "metadata": {
    "colab": {},
    "colab_type": "code",
    "id": "nuVk-_FMZpCT"
   },
   "outputs": [],
   "source": [
    "max_pages = 1813\n",
    "desired_pages = 5\n",
    "\n",
    "page_nums = [np.random.randint(1, max_pages) for x in range(desired_pages)]\n",
    "page_urls = [page_base.format(x) for x in page_nums]"
   ]
  },
  {
   "cell_type": "code",
   "execution_count": 38,
   "metadata": {
    "colab": {},
    "colab_type": "code",
    "id": "JRHqCjfoeWA-"
   },
   "outputs": [],
   "source": [
    "def g_scrape_review(review_response):\n",
    "\n",
    "    global review_df\n",
    "\n",
    "    review_soup = BeautifulSoup(review_response.content, \"html.parser\")\n",
    "\n",
    "    tombstone = review_soup.find(\"div\", {\"class\": \"single-album-tombstone\"})\n",
    "\n",
    "    artist = tombstone.find(\"li\").find(\"a\")\n",
    "    album  = tombstone.find(\"h1\", {\"class\": \"single-album-tombstone__review-title\"})\n",
    "    score  = review_soup.find(\"span\", {\"class\": \"score\"})\n",
    "    publish_date = review_soup.find(\"time\", {\"class\": \"pub-date\"})[\"datetime\"]\n",
    "    genre = review_soup.find(\"a\", {\"class\": \"genre-list__link\"})\n",
    "    review_p = review_soup.find(\"div\", {\"class\": \"contents dropcap\"}).findAll(\"p\")"
   ]
  },
  {
   "cell_type": "code",
   "execution_count": 39,
   "metadata": {
    "colab": {},
    "colab_type": "code",
    "id": "KwN5hHtceXyD"
   },
   "outputs": [],
   "source": [
    "def g_get_review_links(page_response):\n",
    "\n",
    "    page_soup = BeautifulSoup(page_response.content, \"html.parser\")\n",
    "    page_review_divs = page_soup.findAll(\"div\", {\"class\": \"review\"})\n",
    "    review_links = [p4k_base + x.find(\"a\", {\"class\": \"review__link\"})[\"href\"] for x in page_review_divs]\n",
    "\n",
    "    return review_links"
   ]
  },
  {
   "cell_type": "code",
   "execution_count": 40,
   "metadata": {
    "colab": {
     "base_uri": "https://localhost:8080/",
     "height": 105
    },
    "colab_type": "code",
    "id": "Ursz-uI2e35s",
    "outputId": "a26b3b6a-a442-47e8-a15f-91ace5471516"
   },
   "outputs": [],
   "source": [
    "page_requests  = (grequests.get(u) for u in page_urls)\n",
    "page_responses = grequests.map(page_requests)"
   ]
  },
  {
   "cell_type": "markdown",
   "metadata": {
    "colab_type": "text",
    "id": "KXcmfO1Yfi_V"
   },
   "source": [
    "**Single Process** Get Review Links **GRequests**"
   ]
  },
  {
   "cell_type": "code",
   "execution_count": 41,
   "metadata": {
    "colab": {
     "base_uri": "https://localhost:8080/",
     "height": 387
    },
    "colab_type": "code",
    "id": "7YgfatxSe-md",
    "outputId": "d2fe28de-8ca8-4ae0-ad4b-9db15073853e"
   },
   "outputs": [
    {
     "name": "stdout",
     "output_type": "stream",
     "text": [
      "CPU times: user 7.05 s, sys: 23.6 ms, total: 7.07 s\n",
      "Wall time: 7.62 s\n"
     ]
    }
   ],
   "source": [
    "%%time\n",
    "# No multi\n",
    "for page_response in page_responses:\n",
    "    review_links = g_get_review_links(page_response)"
   ]
  },
  {
   "cell_type": "markdown",
   "metadata": {
    "colab_type": "text",
    "id": "Z5CCsqWSfpwL"
   },
   "source": [
    "**Multi-Process** Get Review Links **GRequests**"
   ]
  },
  {
   "cell_type": "code",
   "execution_count": 42,
   "metadata": {
    "colab": {},
    "colab_type": "code",
    "id": "0PkJUC3kfIUx"
   },
   "outputs": [
    {
     "name": "stdout",
     "output_type": "stream",
     "text": [
      "CPU times: user 8.85 ms, sys: 11.4 ms, total: 20.3 ms\n",
      "Wall time: 7.83 s\n"
     ]
    }
   ],
   "source": [
    "%%time\n",
    "# Multi\n",
    "with multiprocessing.Pool() as p:\n",
    "    review_links = p.map(g_get_review_links, page_responses)\n",
    "review_links = list(itertools.chain.from_iterable(review_links))"
   ]
  },
  {
   "cell_type": "code",
   "execution_count": 43,
   "metadata": {},
   "outputs": [
    {
     "name": "stdout",
     "output_type": "stream",
     "text": [
      "Found 60 links for reviews\n"
     ]
    }
   ],
   "source": [
    "print(f\"Found {len(review_links)} links for reviews\")"
   ]
  },
  {
   "cell_type": "code",
   "execution_count": 44,
   "metadata": {
    "colab": {},
    "colab_type": "code",
    "id": "D5y9tXY9fP1d"
   },
   "outputs": [],
   "source": [
    "review_requests  = (grequests.get(u) for u in review_links)\n",
    "review_responses = grequests.map(review_requests)"
   ]
  },
  {
   "cell_type": "markdown",
   "metadata": {
    "colab_type": "text",
    "id": "3EmkADVHfutz"
   },
   "source": [
    "**Single Process** Scrape Review **GRequests**"
   ]
  },
  {
   "cell_type": "code",
   "execution_count": 45,
   "metadata": {
    "colab": {},
    "colab_type": "code",
    "id": "Tz6edcbrfRNE"
   },
   "outputs": [
    {
     "name": "stdout",
     "output_type": "stream",
     "text": [
      "CPU times: user 1min 16s, sys: 323 ms, total: 1min 17s\n",
      "Wall time: 1min 33s\n"
     ]
    }
   ],
   "source": [
    "%%time\n",
    "# No multi\n",
    "for review_response in review_responses:\n",
    "    g_scrape_review(review_response)"
   ]
  },
  {
   "cell_type": "markdown",
   "metadata": {
    "colab_type": "text",
    "id": "B3f-FEmZfxoN"
   },
   "source": [
    "**Multi-Process** Scrape Reviews **GRequests**\n"
   ]
  },
  {
   "cell_type": "code",
   "execution_count": 46,
   "metadata": {
    "colab": {},
    "colab_type": "code",
    "id": "rMf4IxuLfT6E"
   },
   "outputs": [
    {
     "name": "stdout",
     "output_type": "stream",
     "text": [
      "CPU times: user 139 ms, sys: 27.4 ms, total: 166 ms\n",
      "Wall time: 1min 37s\n"
     ]
    }
   ],
   "source": [
    "%%time\n",
    "# Multi\n",
    "with multiprocessing.Pool() as p:\n",
    "    p.map(g_scrape_review, review_responses)"
   ]
  },
  {
   "cell_type": "code",
   "execution_count": 47,
   "metadata": {
    "colab": {},
    "colab_type": "code",
    "id": "BXAfl7X2Z5ns"
   },
   "outputs": [],
   "source": [
    "#review_df.to_csv(csv_fname)"
   ]
  }
 ],
 "metadata": {
  "colab": {
   "collapsed_sections": [],
   "name": "grequests_pitchfork_crawler.ipynb",
   "provenance": []
  },
  "kernelspec": {
   "display_name": "tensorflow",
   "language": "python",
   "name": "tensorflow"
  },
  "language_info": {
   "codemirror_mode": {
    "name": "ipython",
    "version": 3
   },
   "file_extension": ".py",
   "mimetype": "text/x-python",
   "name": "python",
   "nbconvert_exporter": "python",
   "pygments_lexer": "ipython3",
   "version": "3.6.5"
  }
 },
 "nbformat": 4,
 "nbformat_minor": 1
}
