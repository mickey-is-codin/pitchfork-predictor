{
  "nbformat": 4,
  "nbformat_minor": 0,
  "metadata": {
    "colab": {
      "name": "pitchfork_crawler.ipynb",
      "provenance": [],
      "collapsed_sections": []
    },
    "kernelspec": {
      "name": "python3",
      "display_name": "Python 3"
    }
  },
  "cells": [
    {
      "cell_type": "code",
      "metadata": {
        "id": "iq0Ap5-4YjZV",
        "colab_type": "code",
        "colab": {}
      },
      "source": [
        "import time\n",
        "import requests\n",
        "import multiprocessing\n",
        "import itertools\n",
        "\n",
        "import numpy as np\n",
        "import pandas as pd\n",
        "\n",
        "from bs4 import BeautifulSoup\n",
        "from bs4 import element\n",
        "from tqdm import tqdm"
      ],
      "execution_count": 0,
      "outputs": []
    },
    {
      "cell_type": "code",
      "metadata": {
        "id": "aGOCUH5YYpGh",
        "colab_type": "code",
        "colab": {}
      },
      "source": [
        "csv_fname = \"data/p4k_reviews.csv\"\n",
        "\n",
        "cols = [ \"artist\", \"album\", \"genre\", \"review\", \"lyrics\", \"date\", \"score\"]\n",
        "review_df = pd.DataFrame(columns=cols)"
      ],
      "execution_count": 0,
      "outputs": []
    },
    {
      "cell_type": "code",
      "metadata": {
        "id": "v8GM3UGbYwl3",
        "colab_type": "code",
        "colab": {}
      },
      "source": [
        "review_base = \"https://pitchfork.com/reviews/albums/\"\n",
        "page_base = \"https://pitchfork.com/reviews/albums/?page={}\""
      ],
      "execution_count": 0,
      "outputs": []
    },
    {
      "cell_type": "code",
      "metadata": {
        "id": "nuVk-_FMZpCT",
        "colab_type": "code",
        "colab": {}
      },
      "source": [
        "max_pages = 1813\n",
        "desired_pages = 10\n",
        "\n",
        "page_nums = [np.random.randint(1, max_pages) for x in range(desired_pages)]\n",
        "page_urls = [page_base.format(x) for x in page_nums]"
      ],
      "execution_count": 0,
      "outputs": []
    },
    {
      "cell_type": "code",
      "metadata": {
        "id": "MpkuhRzOZuSt",
        "colab_type": "code",
        "colab": {}
      },
      "source": [
        "%%time\n",
        "# No multi\n",
        "    # for page_url in tqdm(page_urls):\n",
        "    #    review_links = get_review_links(page_url)"
      ],
      "execution_count": 0,
      "outputs": []
    },
    {
      "cell_type": "code",
      "metadata": {
        "id": "F3FYifgIZp0k",
        "colab_type": "code",
        "colab": {}
      },
      "source": [
        "%%time\n",
        "# Multi\n",
        "with multiprocessing.Pool() as p:\n",
        "    review_links = p.map(get_review_links, page_urls)\n",
        "review_links = list(itertools.chain.from_iterable(review_links))"
      ],
      "execution_count": 0,
      "outputs": []
    },
    {
      "cell_type": "code",
      "metadata": {
        "id": "yXqHG1izZzbs",
        "colab_type": "code",
        "colab": {}
      },
      "source": [
        "print(f\"Found {len(review_links)} links for reviews\")"
      ],
      "execution_count": 0,
      "outputs": []
    },
    {
      "cell_type": "code",
      "metadata": {
        "id": "_yj3_EOeZ0Lk",
        "colab_type": "code",
        "colab": {}
      },
      "source": [
        "%%time\n",
        "# No multi\n",
        "    # for link in tqdm(review_links):\n",
        "    #     scrape_review(link)"
      ],
      "execution_count": 0,
      "outputs": []
    },
    {
      "cell_type": "code",
      "metadata": {
        "id": "P5Nr7p0qZ1rO",
        "colab_type": "code",
        "colab": {}
      },
      "source": [
        "%%time\n",
        "# Multi\n",
        "with multiprocessing.Pool() as p:\n",
        "    p.map(scrape_review, review_links)"
      ],
      "execution_count": 0,
      "outputs": []
    },
    {
      "cell_type": "code",
      "metadata": {
        "id": "BXAfl7X2Z5ns",
        "colab_type": "code",
        "colab": {}
      },
      "source": [
        "#review_df.to_csv(csv_fname)"
      ],
      "execution_count": 0,
      "outputs": []
    }
  ]
}