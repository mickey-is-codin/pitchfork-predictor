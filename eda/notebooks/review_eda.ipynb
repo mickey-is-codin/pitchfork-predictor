{
 "cells": [
  {
   "cell_type": "code",
   "execution_count": 11,
   "metadata": {},
   "outputs": [],
   "source": [
    "import numpy as np\n",
    "import pandas as pd\n",
    "import seaborn as sns\n",
    "import matplotlib.pyplot as plt\n",
    "\n",
    "from pathlib import Path"
   ]
  },
  {
   "cell_type": "code",
   "execution_count": 12,
   "metadata": {},
   "outputs": [
    {
     "data": {
      "text/html": [
       "<div>\n",
       "<style scoped>\n",
       "    .dataframe tbody tr th:only-of-type {\n",
       "        vertical-align: middle;\n",
       "    }\n",
       "\n",
       "    .dataframe tbody tr th {\n",
       "        vertical-align: top;\n",
       "    }\n",
       "\n",
       "    .dataframe thead th {\n",
       "        text-align: right;\n",
       "    }\n",
       "</style>\n",
       "<table border=\"1\" class=\"dataframe\">\n",
       "  <thead>\n",
       "    <tr style=\"text-align: right;\">\n",
       "      <th></th>\n",
       "      <th>artist</th>\n",
       "      <th>album</th>\n",
       "      <th>genre</th>\n",
       "      <th>review</th>\n",
       "      <th>lyrics</th>\n",
       "      <th>date</th>\n",
       "      <th>score</th>\n",
       "    </tr>\n",
       "  </thead>\n",
       "  <tbody>\n",
       "    <tr>\n",
       "      <td>0</td>\n",
       "      <td>Van Morrison</td>\n",
       "      <td>Three Chords and the Truth</td>\n",
       "      <td>Rock</td>\n",
       "      <td>Forty-one albums into his storied career, Van ...</td>\n",
       "      <td>NaN</td>\n",
       "      <td>2019-10-31</td>\n",
       "      <td>7.3</td>\n",
       "    </tr>\n",
       "    <tr>\n",
       "      <td>1</td>\n",
       "      <td>Mikal Cronin</td>\n",
       "      <td>Seeker</td>\n",
       "      <td>Rock</td>\n",
       "      <td>To overcome an uncharacteristic bout of writer...</td>\n",
       "      <td>NaN</td>\n",
       "      <td>2019-10-31</td>\n",
       "      <td>5.6</td>\n",
       "    </tr>\n",
       "    <tr>\n",
       "      <td>2</td>\n",
       "      <td>Young Guv</td>\n",
       "      <td>GUV II</td>\n",
       "      <td>Rock</td>\n",
       "      <td>There are lots of reasons to release a double ...</td>\n",
       "      <td>From a lonely heart I've been dying to write t...</td>\n",
       "      <td>2019-10-31</td>\n",
       "      <td>7.7</td>\n",
       "    </tr>\n",
       "    <tr>\n",
       "      <td>3</td>\n",
       "      <td>Ka Baird</td>\n",
       "      <td>Respires</td>\n",
       "      <td>Experimental</td>\n",
       "      <td>If the voice is the original instrument, as th...</td>\n",
       "      <td>NaN</td>\n",
       "      <td>2019-10-31</td>\n",
       "      <td>7.8</td>\n",
       "    </tr>\n",
       "    <tr>\n",
       "      <td>4</td>\n",
       "      <td>Neil Young</td>\n",
       "      <td>Colorado</td>\n",
       "      <td>Rock</td>\n",
       "      <td>Many have tried, but no one plays guitar quite...</td>\n",
       "      <td>NaN</td>\n",
       "      <td>2019-10-30</td>\n",
       "      <td>7.4</td>\n",
       "    </tr>\n",
       "  </tbody>\n",
       "</table>\n",
       "</div>"
      ],
      "text/plain": [
       "         artist                       album         genre  \\\n",
       "0  Van Morrison  Three Chords and the Truth          Rock   \n",
       "1  Mikal Cronin                      Seeker          Rock   \n",
       "2     Young Guv                      GUV II          Rock   \n",
       "3     Ka Baird                     Respires  Experimental   \n",
       "4    Neil Young                    Colorado          Rock   \n",
       "\n",
       "                                              review  \\\n",
       "0  Forty-one albums into his storied career, Van ...   \n",
       "1  To overcome an uncharacteristic bout of writer...   \n",
       "2  There are lots of reasons to release a double ...   \n",
       "3  If the voice is the original instrument, as th...   \n",
       "4  Many have tried, but no one plays guitar quite...   \n",
       "\n",
       "                                              lyrics        date  score  \n",
       "0                                                NaN  2019-10-31    7.3  \n",
       "1                                                NaN  2019-10-31    5.6  \n",
       "2  From a lonely heart I've been dying to write t...  2019-10-31    7.7  \n",
       "3                                                NaN  2019-10-31    7.8  \n",
       "4                                                NaN  2019-10-30    7.4  "
      ]
     },
     "execution_count": 12,
     "metadata": {},
     "output_type": "execute_result"
    }
   ],
   "source": [
    "data_path = Path(\"../data/p4k_reviews.csv\")\n",
    "\n",
    "review_df = pd.read_csv(data_path)\n",
    "review_df.head()"
   ]
  },
  {
   "cell_type": "code",
   "execution_count": 13,
   "metadata": {},
   "outputs": [
    {
     "name": "stdout",
     "output_type": "stream",
     "text": [
      "588 samples in dataset\n"
     ]
    }
   ],
   "source": [
    "print(f\"{review_df.shape[0]} samples in dataset\")"
   ]
  },
  {
   "cell_type": "code",
   "execution_count": 15,
   "metadata": {
    "scrolled": false
   },
   "outputs": [
    {
     "name": "stdout",
     "output_type": "stream",
     "text": [
      "<class 'pandas.core.frame.DataFrame'>\n",
      "RangeIndex: 588 entries, 0 to 587\n",
      "Data columns (total 7 columns):\n",
      "artist    570 non-null object\n",
      "album     588 non-null object\n",
      "genre     560 non-null object\n",
      "review    588 non-null object\n",
      "lyrics    305 non-null object\n",
      "date      588 non-null object\n",
      "score     588 non-null float64\n",
      "dtypes: float64(1), object(6)\n",
      "memory usage: 32.3+ KB\n"
     ]
    }
   ],
   "source": [
    "review_df.info()"
   ]
  },
  {
   "cell_type": "code",
   "execution_count": 16,
   "metadata": {},
   "outputs": [
    {
     "data": {
      "text/html": [
       "<div>\n",
       "<style scoped>\n",
       "    .dataframe tbody tr th:only-of-type {\n",
       "        vertical-align: middle;\n",
       "    }\n",
       "\n",
       "    .dataframe tbody tr th {\n",
       "        vertical-align: top;\n",
       "    }\n",
       "\n",
       "    .dataframe thead th {\n",
       "        text-align: right;\n",
       "    }\n",
       "</style>\n",
       "<table border=\"1\" class=\"dataframe\">\n",
       "  <thead>\n",
       "    <tr style=\"text-align: right;\">\n",
       "      <th></th>\n",
       "      <th>score</th>\n",
       "    </tr>\n",
       "  </thead>\n",
       "  <tbody>\n",
       "    <tr>\n",
       "      <td>count</td>\n",
       "      <td>588.000000</td>\n",
       "    </tr>\n",
       "    <tr>\n",
       "      <td>mean</td>\n",
       "      <td>7.267687</td>\n",
       "    </tr>\n",
       "    <tr>\n",
       "      <td>std</td>\n",
       "      <td>0.983775</td>\n",
       "    </tr>\n",
       "    <tr>\n",
       "      <td>min</td>\n",
       "      <td>3.500000</td>\n",
       "    </tr>\n",
       "    <tr>\n",
       "      <td>25%</td>\n",
       "      <td>6.800000</td>\n",
       "    </tr>\n",
       "    <tr>\n",
       "      <td>50%</td>\n",
       "      <td>7.400000</td>\n",
       "    </tr>\n",
       "    <tr>\n",
       "      <td>75%</td>\n",
       "      <td>7.800000</td>\n",
       "    </tr>\n",
       "    <tr>\n",
       "      <td>max</td>\n",
       "      <td>10.000000</td>\n",
       "    </tr>\n",
       "  </tbody>\n",
       "</table>\n",
       "</div>"
      ],
      "text/plain": [
       "            score\n",
       "count  588.000000\n",
       "mean     7.267687\n",
       "std      0.983775\n",
       "min      3.500000\n",
       "25%      6.800000\n",
       "50%      7.400000\n",
       "75%      7.800000\n",
       "max     10.000000"
      ]
     },
     "execution_count": 16,
     "metadata": {},
     "output_type": "execute_result"
    }
   ],
   "source": [
    "review_df.describe()"
   ]
  },
  {
   "cell_type": "code",
   "execution_count": 23,
   "metadata": {},
   "outputs": [
    {
     "data": {
      "text/plain": [
       "<matplotlib.axes._subplots.AxesSubplot at 0x7f53086dd748>"
      ]
     },
     "execution_count": 23,
     "metadata": {},
     "output_type": "execute_result"
    },
    {
     "data": {
      "image/png": "[encoded data removed]",
      "text/plain": [
       "<Figure size 432x288 with 1 Axes>"
      ]
     },
     "metadata": {
      "needs_background": "light"
     },
     "output_type": "display_data"
    }
   ],
   "source": [
    "review_df[\"score\"].plot()"
   ]
  },
  {
   "cell_type": "code",
   "execution_count": null,
   "metadata": {},
   "outputs": [],
   "source": []
  }
 ],
 "metadata": {
  "kernelspec": {
   "display_name": "tensorflow",
   "language": "python",
   "name": "tensorflow"
  },
  "language_info": {
   "codemirror_mode": {
    "name": "ipython",
    "version": 3
   },
   "file_extension": ".py",
   "mimetype": "text/x-python",
   "name": "python",
   "nbconvert_exporter": "python",
   "pygments_lexer": "ipython3",
   "version": "3.6.5"
  }
 },
 "nbformat": 4,
 "nbformat_minor": 2
}
